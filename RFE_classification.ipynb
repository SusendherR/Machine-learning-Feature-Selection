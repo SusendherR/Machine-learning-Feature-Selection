{
 "cells": [
  {
   "cell_type": "code",
   "execution_count": 1,
   "id": "0b7a9816-1a70-42c1-94da-f3a12c940dc7",
   "metadata": {},
   "outputs": [],
   "source": [
    "import pandas as pd\n",
    "from sklearn.model_selection import train_test_split\n",
    "import numpy as np\n",
    "from sklearn.preprocessing import StandardScaler\n",
    "from sklearn.feature_selection import SelectKBest\n",
    "#from sklearn.feature_selection import chi2\n",
    "from sklearn.feature_selection import RFE\n",
    "from sklearn.linear_model import LogisticRegression\n",
    "#import pickle\n",
    "import matplotlib.pyplot as plt\n",
    "from sklearn.neighbors import KNeighborsClassifier\n",
    "from sklearn.svm import SVC\n",
    "from sklearn.ensemble import RandomForestClassifier\n",
    "from sklearn.naive_bayes import GaussianNB\n",
    "from sklearn.tree import DecisionTreeClassifier\n",
    "import warnings\n",
    "warnings.filterwarnings(\"ignore\")"
   ]
  },
  {
   "cell_type": "code",
   "execution_count": 2,
   "id": "947a73d3-b3e4-47fa-8575-746b40b80e87",
   "metadata": {},
   "outputs": [],
   "source": [
    "def rfeFeature(indep_X,dep_Y,n):\n",
    "    rfelist=[]\n",
    "    \n",
    "    log_model=LogisticRegression(solver='lbfgs')\n",
    "    RF=RandomForestClassifier(n_estimators = 10, criterion = 'entropy', random_state = 0)\n",
    "    DT=DecisionTreeClassifier(criterion = 'gini', max_features='sqrt',splitter='best',random_state = 0)\n",
    "    svc_model=SVC(kernel = 'linear', random_state = 0)\n",
    "    #knn=KNeighborsClassifier(n_neighbors = 5, metric = 'minkowski', p = 2)\n",
    "    rfemodellist=[log_model,svc_model,RF,DT]\n",
    "    for i in rfemodellist:\n",
    "        print(i)\n",
    "        log_rfe=RFE(estimator=i, n_features_to_select=n)\n",
    "        log_fit=log_rfe.fit(indep_X,dep_Y)\n",
    "        log_rfe_feature=log_fit.transform(indep_X)\n",
    "        rfelist.append(log_rfe_feature)\n",
    "    return rfelist\n"
   ]
  },
  {
   "cell_type": "code",
   "execution_count": 3,
   "id": "dd9e6de4-f6a4-448c-a56d-fc8d778a9d7f",
   "metadata": {},
   "outputs": [],
   "source": [
    "def split_scalar(indep_X,dep_Y):\n",
    "    X_train,X_test,y_train,y_test=train_test_split(indep_X,dep_Y, test_size=0.25,random_state=0)\n",
    "    #X_train, X_test, y_train, y_test = train_test_split(indep_X,dep_Y, test_size = 0.25, random_state = 0)\n",
    "    sc=StandardScaler()\n",
    "    #Feature scaling\n",
    "    #from sklearn.preprocessing import standardscaler\n",
    "    X_train=sc.fit_transform(X_train)\n",
    "    X_test=sc.transform(X_test)\n",
    "    return X_train,X_test,y_train,y_test"
   ]
  },
  {
   "cell_type": "code",
   "execution_count": 4,
   "id": "f279c7cd-a750-4a24-9a8e-6205dad4b445",
   "metadata": {},
   "outputs": [],
   "source": [
    "def cm_prediction(classifier,X_test):\n",
    "    y_pred=classifier.predict(X_test)\n",
    "    # Making the Confusion Matrix\n",
    "    from sklearn.metrics import confusion_matrix\n",
    "    cm=confusion_matrix(y_test,y_pred)\n",
    "    from sklearn.metrics import accuracy_score\n",
    "    from sklearn.metrics import classification_report\n",
    "     #from sklearn.matrics import confusion_matrix\n",
    "     #cm = confusion_matrix(y_test, y_pred)\n",
    "    Accuracy=accuracy_score(y_test,y_pred)\n",
    "    report=classification_report(y_test,y_pred)\n",
    "    return classifier,Accuracy,report,X_test,y_test,cm\n",
    "    # Call to the split and standard scaler to create the one-by-one function created for the return \n",
    "    # statement x- test,y-test,and cm is  function is running"
   ]
  },
  {
   "cell_type": "code",
   "execution_count": 5,
   "id": "96894b1f-fedb-41f4-83a4-61631c7fb945",
   "metadata": {},
   "outputs": [],
   "source": [
    "# Aboue as  the cm Same to the all model runing\n",
    "def logistic(X_train,y_train,X_test):\n",
    "    # Fitting K-NN to the Training set\n",
    "    from sklearn.linear_model import LogisticRegression\n",
    "    classifier =LogisticRegression(random_state=0)\n",
    "    classifier.fit(X_train,y_train)\n",
    "    classifier,Accuracy,report,X_test,y_test,cm=cm_prediction(classifier,X_test)\n",
    "    return classifier,Accuracy,report,X_test,y_test,cm"
   ]
  },
  {
   "cell_type": "code",
   "execution_count": 6,
   "id": "3f2829a9-0bc4-4a76-859a-ae2754c8b6a5",
   "metadata": {},
   "outputs": [],
   "source": [
    "def svm_linear(X_train,y_train,X_test):\n",
    "    # Fitting K-NN to the Training set\n",
    "    from sklearn.svm import SVC\n",
    "    classifier =SVC(kernel = 'linear',random_state=0)\n",
    "    classifier.fit(X_train,y_train)\n",
    "    classifier,Accuracy,report,X_test,y_test,cm=cm_prediction(classifier,X_test)\n",
    "    return classifier,Accuracy,report,X_test,y_test,cm"
   ]
  },
  {
   "cell_type": "code",
   "execution_count": 7,
   "id": "42c20f4f-5140-4a1f-96ab-a66e44bb96e8",
   "metadata": {},
   "outputs": [],
   "source": [
    "def svm_NL(X_train,y_train,X_test):\n",
    "    from sklearn.svm import SVC\n",
    "    classifier=SVC(kernel='rbf', gamma='scale',random_state=0)\n",
    "    classifier.fit(X_train,y_train)\n",
    "    classifier,Accuracy,report,X_test,y_test,cm=cm_prediction(classifier,X_test)\n",
    "    return classifier,Accuracy,report,X_test,y_test,cm"
   ]
  },
  {
   "cell_type": "code",
   "execution_count": 8,
   "id": "08af20b0-6071-426e-ab48-a482e6ea167e",
   "metadata": {},
   "outputs": [],
   "source": [
    "def Navie(X_train,y_train,X_test):\n",
    "    # Fitting K-NN to the Training set\n",
    "    from sklearn.naive_bayes import GaussianNB\n",
    "    classifier=GaussianNB()\n",
    "    classifier.fit(X_train,y_train)\n",
    "    classifier,Accuracy,report,X_test,y_test,cm=cm_prediction(classifier,X_test)\n",
    "    return classifier,Accuracy,report,X_test,y_test,cm"
   ]
  },
  {
   "cell_type": "code",
   "execution_count": 9,
   "id": "394e212d-d43d-43b8-aaea-75ac9844da9e",
   "metadata": {},
   "outputs": [],
   "source": [
    "def knn(X_train,y_train,X_test):\n",
    "    # Fitting K-NN to the Training set\n",
    "    from sklearn.neighbors import KNeighborsClassifier\n",
    "    classifier=KNeighborsClassifier(n_neighbors=7,p=2,metric='minkowski')\n",
    "    classifier.fit(X_train,y_train)\n",
    "    classifier,Accuraacy,report,X_test,y_test,cm=cm_prediction(classifier,X_test)\n",
    "    return classifier,Accuracy,report,X_test,y_test,cm"
   ]
  },
  {
   "cell_type": "code",
   "execution_count": 10,
   "id": "17788746-423b-4e46-b1c3-e38a890fe0cc",
   "metadata": {},
   "outputs": [],
   "source": [
    "def Decision(X_train,y_train,X_test):\n",
    "    # Fitting K-NN to the Training set\n",
    "    from sklearn.tree import DecisionTreeClassifier\n",
    "    classifier=DecisionTreeClassifier(criterion='entropy', splitter='random',max_features='sqrt',random_state=0)\n",
    "    classifier.fit(X_train,y_train)\n",
    "    classifier,Accuracy,report,X_test,y_test,cm=cm_prediction(classifier,X_test)\n",
    "    return classifier,Accuracy,report,X_test,y_test,cm"
   ]
  },
  {
   "cell_type": "code",
   "execution_count": 11,
   "id": "6d02a423-c85b-4b5c-831f-330944a80152",
   "metadata": {},
   "outputs": [],
   "source": [
    "def random(X_train,y_train,X_test):\n",
    "     # Fitting K-NN to the Training set\n",
    "    from sklearn.ensemble import RandomForestClassifier\n",
    "    classifier=RandomForestClassifier(n_estimators = 10, criterion = 'entropy',max_features='sqrt', random_state = 0)\n",
    "    classifier.fit(X_train,y_train)\n",
    "    classifier,Accuracy,report,X_test,y_test,cm=cm_prediction(classifier,X_test)\n",
    "    return classifier,Accuracy,report,X_test,y_test,cm"
   ]
  },
  {
   "cell_type": "code",
   "execution_count": 12,
   "id": "2339212a-97de-456f-af28-b4026f0083e5",
   "metadata": {},
   "outputs": [],
   "source": [
    "# all model of the same table create are created to funcation\n",
    "def rfe_Classification(acclog, accsvml, accsvmnl, accnav, accknn, accdes, accrf):\n",
    "    rfedataframe = pd.DataFrame(index=['Logistic', 'SVC', 'Random', 'DecisionTree'],\n",
    "                                 columns=['Logistic', 'SVMl', 'SVMnl', 'KNN', 'Navie', 'Decision', 'Random'])\n",
    "    for number, index in enumerate(rfedataframe.index):\n",
    "        rfedataframe.loc[index] = [acclog[number], accsvml[number], accsvmnl[number], \n",
    "                                   accknn[number], accnav[number], accdes[number], accrf[number]]\n",
    "    return rfedataframe # return to the funcation to dataframe"
   ]
  },
  {
   "cell_type": "code",
   "execution_count": 13,
   "id": "74771a8e-4cb7-4f8e-aafc-16f17f74ccd0",
   "metadata": {},
   "outputs": [],
   "source": [
    "# upload the csv file, and check the for the null values.\n",
    "dataset1=pd.read_csv(\"prep-Copy1.csv\",index_col=None)\n",
    "df2=dataset1 # back up of the original dataset\n",
    "df2=pd.get_dummies(df2,drop_first=True)\n",
    "#df2"
   ]
  },
  {
   "cell_type": "code",
   "execution_count": 14,
   "id": "fe6242be-efcd-49e6-976f-e83416728bbc",
   "metadata": {},
   "outputs": [],
   "source": [
    "# independent and dependent variables suppurating to the funcation\n",
    "indep_X = df2.drop(['classification_yes'], axis=1)\n",
    "dep_Y = df2['classification_yes']"
   ]
  },
  {
   "cell_type": "code",
   "execution_count": 15,
   "id": "eeb2ea1e-6cba-46f6-8a4c-2407f96e9038",
   "metadata": {},
   "outputs": [
    {
     "name": "stdout",
     "output_type": "stream",
     "text": [
      "LogisticRegression()\n",
      "SVC(kernel='linear', random_state=0)\n",
      "RandomForestClassifier(criterion='entropy', n_estimators=10, random_state=0)\n",
      "DecisionTreeClassifier(max_features='sqrt', random_state=0)\n"
     ]
    }
   ],
   "source": [
    "# Call the k-best independent department x, y to create an accuracy list using the provided parameters and set k = n.\n",
    "# featur selection\n",
    "rfelist=rfeFeature(indep_X,dep_Y,5)\n",
    "\n",
    "acclog=[]\n",
    "accsvml=[]\n",
    "accsvmnl=[]\n",
    "accknn=[]\n",
    "accnav=[]\n",
    "accdes=[]\n",
    "accrf=[]"
   ]
  },
  {
   "cell_type": "code",
   "execution_count": 16,
   "id": "e5b420c4-f931-4110-8e0c-49442cee4f45",
   "metadata": {},
   "outputs": [
    {
     "data": {
      "text/html": [
       "<div>\n",
       "<style scoped>\n",
       "    .dataframe tbody tr th:only-of-type {\n",
       "        vertical-align: middle;\n",
       "    }\n",
       "\n",
       "    .dataframe tbody tr th {\n",
       "        vertical-align: top;\n",
       "    }\n",
       "\n",
       "    .dataframe thead th {\n",
       "        text-align: right;\n",
       "    }\n",
       "</style>\n",
       "<table border=\"1\" class=\"dataframe\">\n",
       "  <thead>\n",
       "    <tr style=\"text-align: right;\">\n",
       "      <th></th>\n",
       "      <th>Logistic</th>\n",
       "      <th>SVMl</th>\n",
       "      <th>SVMnl</th>\n",
       "      <th>KNN</th>\n",
       "      <th>Navie</th>\n",
       "      <th>Decision</th>\n",
       "      <th>Random</th>\n",
       "    </tr>\n",
       "  </thead>\n",
       "  <tbody>\n",
       "    <tr>\n",
       "      <th>Logistic</th>\n",
       "      <td>0.98</td>\n",
       "      <td>0.98</td>\n",
       "      <td>0.98</td>\n",
       "      <td>0.98</td>\n",
       "      <td>0.98</td>\n",
       "      <td>0.98</td>\n",
       "      <td>0.98</td>\n",
       "    </tr>\n",
       "    <tr>\n",
       "      <th>SVC</th>\n",
       "      <td>0.99</td>\n",
       "      <td>0.99</td>\n",
       "      <td>0.99</td>\n",
       "      <td>0.99</td>\n",
       "      <td>0.99</td>\n",
       "      <td>0.99</td>\n",
       "      <td>0.99</td>\n",
       "    </tr>\n",
       "    <tr>\n",
       "      <th>Random</th>\n",
       "      <td>0.97</td>\n",
       "      <td>0.97</td>\n",
       "      <td>0.98</td>\n",
       "      <td>0.98</td>\n",
       "      <td>0.91</td>\n",
       "      <td>0.96</td>\n",
       "      <td>0.98</td>\n",
       "    </tr>\n",
       "    <tr>\n",
       "      <th>DecisionTree</th>\n",
       "      <td>0.95</td>\n",
       "      <td>0.98</td>\n",
       "      <td>0.93</td>\n",
       "      <td>0.93</td>\n",
       "      <td>0.85</td>\n",
       "      <td>0.97</td>\n",
       "      <td>0.98</td>\n",
       "    </tr>\n",
       "  </tbody>\n",
       "</table>\n",
       "</div>"
      ],
      "text/plain": [
       "             Logistic  SVMl SVMnl   KNN Navie Decision Random\n",
       "Logistic         0.98  0.98  0.98  0.98  0.98     0.98   0.98\n",
       "SVC              0.99  0.99  0.99  0.99  0.99     0.99   0.99\n",
       "Random           0.97  0.97  0.98  0.98  0.91     0.96   0.98\n",
       "DecisionTree     0.95  0.98  0.93  0.93  0.85     0.97   0.98"
      ]
     },
     "execution_count": 16,
     "metadata": {},
     "output_type": "execute_result"
    }
   ],
   "source": [
    "for i in rfelist:   \n",
    "    X_train, X_test, y_train, y_test=split_scalar(i,dep_Y)   \n",
    "    \n",
    "        \n",
    "    classifier,Accuracy,report,X_test,y_test,cm=logistic(X_train,y_train,X_test)\n",
    "    acclog.append(Accuracy)\n",
    "    \n",
    "    classifier,Accuracy,report,X_test,y_test,cm=svm_linear(X_train,y_train,X_test)  \n",
    "    accsvml.append(Accuracy)\n",
    "    \n",
    "    classifier,Accuracy,report,X_test,y_test,cm=svm_NL(X_train,y_train,X_test)  \n",
    "    accsvmnl.append(Accuracy)\n",
    "    \n",
    "    classifier,Accuracy,report,X_test,y_test,cm=knn(X_train,y_train,X_test)  \n",
    "    accknn.append(Accuracy)\n",
    "    \n",
    "    classifier,Accuracy,report,X_test,y_test,cm=Navie(X_train,y_train,X_test)  \n",
    "    accnav.append(Accuracy)\n",
    "    \n",
    "    classifier,Accuracy,report,X_test,y_test,cm=Decision(X_train,y_train,X_test)  \n",
    "    accdes.append(Accuracy)\n",
    "    \n",
    "    classifier,Accuracy,report,X_test,y_test,cm=random(X_train,y_train,X_test)\n",
    "    accrf.append(Accuracy)\n",
    "    \n",
    "result=rfe_Classification(acclog,accsvml,accsvmnl,accnav,accknn,accdes,accrf)\n",
    "\n",
    "result"
   ]
  },
  {
   "cell_type": "code",
   "execution_count": null,
   "id": "6e62e077-c609-4ad3-95a6-98372ddc6ff6",
   "metadata": {},
   "outputs": [],
   "source": []
  }
 ],
 "metadata": {
  "kernelspec": {
   "display_name": "Python 3 (ipykernel)",
   "language": "python",
   "name": "python3"
  },
  "language_info": {
   "codemirror_mode": {
    "name": "ipython",
    "version": 3
   },
   "file_extension": ".py",
   "mimetype": "text/x-python",
   "name": "python",
   "nbconvert_exporter": "python",
   "pygments_lexer": "ipython3",
   "version": "3.12.7"
  }
 },
 "nbformat": 4,
 "nbformat_minor": 5
}
